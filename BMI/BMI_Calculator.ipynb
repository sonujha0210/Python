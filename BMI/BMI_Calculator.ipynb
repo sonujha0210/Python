{
 "cells": [
  {
   "cell_type": "code",
   "execution_count": null,
   "id": "874d07a2-42ca-4614-a173-8842ee31b7e5",
   "metadata": {},
   "outputs": [],
   "source": [
    "name = input(\"Enter your name \")\n",
    "weight =int(input(\"Enter Your Weight in pounds: \"))\n",
    "height = int(input(\"Enter Your height in inches: \"))\n",
    "BMI = (weight  * 703)/ (height * height)\n",
    "print(BMI)\n",
    "if BMI>0:\n",
    "    if(BMI < 18.5):\n",
    "        print(name +\", You are underweight.\")\n",
    "    elif (BMI <= 24.9):\n",
    "        print(name +\", You are normal weight.\")\n",
    "    elif (BMI < 29.9):\n",
    "        print(name +\", You are overweight.\")\n",
    "    elif (BMI < 34.9):\n",
    "        print(name +\", You are obese.\")\n",
    "    elif (BMI < 39.9):\n",
    "        print(name +\", You are severly obese.\")\n",
    "    else:\n",
    "        print(name +\", Hit the Gym Else you are gonna die soon \")"
   ]
  },
  {
   "cell_type": "code",
   "execution_count": 35,
   "id": "ab339cc2-bf46-465a-93dc-af657b100813",
   "metadata": {},
   "outputs": [
    {
     "name": "stdout",
     "output_type": "stream",
     "text": [
      "sonu,You are overweight.\n"
     ]
    }
   ],
   "source": []
  },
  {
   "cell_type": "code",
   "execution_count": null,
   "id": "f1e28bbf-387e-4a99-a497-38ac4c3b29bd",
   "metadata": {},
   "outputs": [],
   "source": []
  },
  {
   "cell_type": "code",
   "execution_count": null,
   "id": "cf4186c3-4d8e-426b-ab38-7e694279e3bc",
   "metadata": {},
   "outputs": [],
   "source": []
  },
  {
   "cell_type": "code",
   "execution_count": null,
   "id": "fb02fd0c-2e59-425d-8cd4-b1d44a72c687",
   "metadata": {},
   "outputs": [],
   "source": [
    "#BMI = (weight in pounds * 703)/ (height in inches * height in inches)"
   ]
  },
  {
   "cell_type": "code",
   "execution_count": 10,
   "id": "6f9ff25a-313f-486d-8d5a-20458c61bada",
   "metadata": {},
   "outputs": [
    {
     "name": "stdout",
     "output_type": "stream",
     "text": [
      "25.101869355177485\n"
     ]
    }
   ],
   "source": []
  },
  {
   "cell_type": "code",
   "execution_count": null,
   "id": "4651505c-c774-43d3-92b3-c2ac002c3202",
   "metadata": {},
   "outputs": [],
   "source": []
  },
  {
   "cell_type": "code",
   "execution_count": null,
   "id": "f076ef04-3778-41c2-92da-74e90f9c3a49",
   "metadata": {},
   "outputs": [],
   "source": []
  },
  {
   "cell_type": "code",
   "execution_count": null,
   "id": "c6e14c42-dd21-4ba6-bd2e-f523cec0efec",
   "metadata": {},
   "outputs": [],
   "source": []
  },
  {
   "cell_type": "code",
   "execution_count": null,
   "id": "65e4940e-e87a-47de-b8f3-1c4158d89e04",
   "metadata": {},
   "outputs": [],
   "source": []
  }
 ],
 "metadata": {
  "kernelspec": {
   "display_name": "Python 3 (ipykernel)",
   "language": "python",
   "name": "python3"
  },
  "language_info": {
   "codemirror_mode": {
    "name": "ipython",
    "version": 3
   },
   "file_extension": ".py",
   "mimetype": "text/x-python",
   "name": "python",
   "nbconvert_exporter": "python",
   "pygments_lexer": "ipython3",
   "version": "3.12.7"
  }
 },
 "nbformat": 4,
 "nbformat_minor": 5
}
